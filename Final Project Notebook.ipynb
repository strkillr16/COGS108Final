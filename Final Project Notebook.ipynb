{
 "cells": [
  {
   "cell_type": "markdown",
   "metadata": {},
   "source": [
    "# COGS 108 - Final Project"
   ]
  },
  {
   "cell_type": "markdown",
   "metadata": {},
   "source": [
    "# Names and PID\n",
    "- Anthony Ostia &emsp; A13903305\n",
    "- Ramin Atrian &emsp; A15691021\n",
    "- Chuyang Xiao &emsp; A13722916\n",
    "- Yifeng Zhang &emsp; A13820262\n",
    "- Ian Nelson &emsp; A15738482"
   ]
  },
  {
   "cell_type": "markdown",
   "metadata": {},
   "source": [
    "# Introduction\n",
    "In this final project of Data science, we are trying to generate a recommendation system of movies for IMDB users with the respect of their historical ratings. At first, after obtaining the datasets about both film's final ratings and individual users' ratings, we would try to combine them together with movieID as the key for further comparisons. Next, by visualizing the collected data, we would study the correlation between individual as well as final ratings of films and film genres. At last, we would use the model we generate to recommend films for each individual user. "
   ]
  },
  {
   "cell_type": "markdown",
   "metadata": {},
   "source": [
    "# Background \n",
    "Since the beginning of the 20th century, film has been an important recreation to human beings possessing both artistic and commercial significance. Moreover, in the Information Age, rather than being overwhelmed by the gigantic informative flow, film won unprecedented attention from the population with the aid of widespread accessibility to the Internet. Just like Hsu (2014) argued in his essay, in the era of Web 2.0, film critics are no longer privileges limited to professionals yet typical rights to common audiences as well, due to the introduction of film rating websites such as IMDB or Rotten Tomatoes: each audience could comment or grade films online and then share their evaluations and opinions to the public. Consequently, the data collected thereby is not only abundant in quantity, but also diverse in nature, including millions of users’ personal information as well as preference of films. Hence, considering it a perfect dataset to study users’ attributes to films, we would like to focus on the ratings on movie websites in this project.\n",
    "\n",
    "As increasing audiences begin to consider online ratings as critical criteria to decide whether or  not to see a film, a number of data scientists struggle to explore the rating data, which has provided us with the direction of further research. In the research accomplished by Hsu (2014) focusing on predicting the movies user rating based on the IMDB attributes, by analyzing the ratings and critics of 31506 movies, they generated a mathematical model mimicking the manners of the preference of general IMDB users, and hence predicted the final rating of a newly coming movie via entering related parameters to it. Regardingly, we found that instead of being purely independent, the IMDB ratings of new films could be roughly predicted by past data. Furthermore, in Breuss’s research (2012), the personal information on users’ social media, including gender, hobby, or regular activities, was taken into account and therefore, predicted the IMDB movie ratings they might give, which inspires that individuals’ statistics could also be of concern. \n",
    "\n",
    "All in all, in this data science project, we will combine these two studies and step forward: we will study what kind of movies will a user like based on the historical ratings and review texts of that user on movies he/she has seen previously. From our perspective, this study is not only interesting but also quite applicable, could possibly promote the recommendation system in movie rating websites.\n",
    "\n",
    "Reference:\n",
    "1. Hsu, P. Y., Shen, Y. H., & Xie, X. A. (2014, October). Predicting movies user ratings with imdb attributes. In International Conference on Rough Sets and Knowledge Technology (pp. 444-453). Springer, Cham.\n",
    "2. Oghina, A., Breuss, M., Tsagkias, M., & De Rijke, M. (2012, April). Predicting imdb movie ratings using social media. In European Conference on Information Retrieval (pp. 503-507). Springer, Berlin, Heidelberg."
   ]
  },
  {
   "cell_type": "markdown",
   "metadata": {},
   "source": [
    "# Research Question\n",
    "How to recommend films in their favorite genres to each individual IMDB user according to their historical ratings?"
   ]
  },
  {
   "cell_type": "markdown",
   "metadata": {},
   "source": [
    "# Hypothesis\n",
    "Within this data science group project, we would like to develope a recommendation systems for the movie rating websites which involves to predict the users' preference in movie according to their rating history and then provide them with certain genre of movies that they favour. Hence, we generated a couple of hypothesises with the respect of this topic:\n",
    "1. With the respect of the users, one would like to rate higher on the genres (higher than the average) he or she loves, which indicates his or her love. On the opposite, to the genres he or she dislikes, his or hers ratings would be much lower(lower than or equal to the average).\n",
    "2. Moreover, if a user loves a certain genre of film, he or she tends to watch more this genre of films.\n",
    "3. If a user loves a certain genre of film, this genre of film must exist among the films he or she rates the highest"
   ]
  },
  {
   "cell_type": "markdown",
   "metadata": {},
   "source": [
    "# Datasets\n",
    "\n",
    "Data on ratings comes from\n",
    "https://www.kaggle.com/rounakbanik/the-movies-dataset/version/7#\n",
    "\n",
    "This dataset contains over 200000000 ratings from 138493 users, containing the movieID they rates, the scores they give to each film, and the timestamps of the ratings.\n",
    "\n",
    "Data about movies comes from\n",
    "https://www.kaggle.com/grouplens/movielens-20m-dataset#tag.csv\n",
    "\n",
    "This data contains the information of 27277 movies, including their movieID, title and genres."
   ]
  },
  {
   "cell_type": "markdown",
   "metadata": {},
   "source": [
    "# Setup"
   ]
  },
  {
   "cell_type": "code",
   "execution_count": 1,
   "metadata": {},
   "outputs": [],
   "source": [
    "#import the useful modules and packages.\n",
    "import pandas as pd\n",
    "import numpy as np\n",
    "import seaborn as sns\n",
    "import matplotlib.pyplot as plt\n",
    "from collections import defaultdict"
   ]
  },
  {
   "cell_type": "code",
   "execution_count": 2,
   "metadata": {},
   "outputs": [],
   "source": [
    "# load in our datasets in csv with pandas method.\n",
    "df_rating = pd.read_csv('rating.csv') \n",
    "df_movie = pd.read_csv('movie.csv',dtype = {'title':str, 'genres':str, 'movieId':int})"
   ]
  },
  {
   "cell_type": "code",
   "execution_count": 3,
   "metadata": {},
   "outputs": [
    {
     "data": {
      "text/html": [
       "<div>\n",
       "<style scoped>\n",
       "    .dataframe tbody tr th:only-of-type {\n",
       "        vertical-align: middle;\n",
       "    }\n",
       "\n",
       "    .dataframe tbody tr th {\n",
       "        vertical-align: top;\n",
       "    }\n",
       "\n",
       "    .dataframe thead th {\n",
       "        text-align: right;\n",
       "    }\n",
       "</style>\n",
       "<table border=\"1\" class=\"dataframe\">\n",
       "  <thead>\n",
       "    <tr style=\"text-align: right;\">\n",
       "      <th></th>\n",
       "      <th>userId</th>\n",
       "      <th>movieId</th>\n",
       "      <th>rating</th>\n",
       "      <th>timestamp</th>\n",
       "    </tr>\n",
       "  </thead>\n",
       "  <tbody>\n",
       "    <tr>\n",
       "      <th>0</th>\n",
       "      <td>1</td>\n",
       "      <td>2</td>\n",
       "      <td>3.5</td>\n",
       "      <td>2005-04-02 23:53:47</td>\n",
       "    </tr>\n",
       "    <tr>\n",
       "      <th>1</th>\n",
       "      <td>1</td>\n",
       "      <td>29</td>\n",
       "      <td>3.5</td>\n",
       "      <td>2005-04-02 23:31:16</td>\n",
       "    </tr>\n",
       "    <tr>\n",
       "      <th>2</th>\n",
       "      <td>1</td>\n",
       "      <td>32</td>\n",
       "      <td>3.5</td>\n",
       "      <td>2005-04-02 23:33:39</td>\n",
       "    </tr>\n",
       "    <tr>\n",
       "      <th>3</th>\n",
       "      <td>1</td>\n",
       "      <td>47</td>\n",
       "      <td>3.5</td>\n",
       "      <td>2005-04-02 23:32:07</td>\n",
       "    </tr>\n",
       "    <tr>\n",
       "      <th>4</th>\n",
       "      <td>1</td>\n",
       "      <td>50</td>\n",
       "      <td>3.5</td>\n",
       "      <td>2005-04-02 23:29:40</td>\n",
       "    </tr>\n",
       "  </tbody>\n",
       "</table>\n",
       "</div>"
      ],
      "text/plain": [
       "   userId  movieId  rating            timestamp\n",
       "0       1        2     3.5  2005-04-02 23:53:47\n",
       "1       1       29     3.5  2005-04-02 23:31:16\n",
       "2       1       32     3.5  2005-04-02 23:33:39\n",
       "3       1       47     3.5  2005-04-02 23:32:07\n",
       "4       1       50     3.5  2005-04-02 23:29:40"
      ]
     },
     "execution_count": 3,
     "metadata": {},
     "output_type": "execute_result"
    }
   ],
   "source": [
    "df_rating.head()"
   ]
  },
  {
   "cell_type": "code",
   "execution_count": 4,
   "metadata": {},
   "outputs": [
    {
     "data": {
      "text/html": [
       "<div>\n",
       "<style scoped>\n",
       "    .dataframe tbody tr th:only-of-type {\n",
       "        vertical-align: middle;\n",
       "    }\n",
       "\n",
       "    .dataframe tbody tr th {\n",
       "        vertical-align: top;\n",
       "    }\n",
       "\n",
       "    .dataframe thead th {\n",
       "        text-align: right;\n",
       "    }\n",
       "</style>\n",
       "<table border=\"1\" class=\"dataframe\">\n",
       "  <thead>\n",
       "    <tr style=\"text-align: right;\">\n",
       "      <th></th>\n",
       "      <th>movieId</th>\n",
       "      <th>title</th>\n",
       "      <th>genres</th>\n",
       "    </tr>\n",
       "  </thead>\n",
       "  <tbody>\n",
       "    <tr>\n",
       "      <th>0</th>\n",
       "      <td>1</td>\n",
       "      <td>Toy Story (1995)</td>\n",
       "      <td>Adventure|Animation|Children|Comedy|Fantasy</td>\n",
       "    </tr>\n",
       "    <tr>\n",
       "      <th>1</th>\n",
       "      <td>2</td>\n",
       "      <td>Jumanji (1995)</td>\n",
       "      <td>Adventure|Children|Fantasy</td>\n",
       "    </tr>\n",
       "    <tr>\n",
       "      <th>2</th>\n",
       "      <td>3</td>\n",
       "      <td>Grumpier Old Men (1995)</td>\n",
       "      <td>Comedy|Romance</td>\n",
       "    </tr>\n",
       "    <tr>\n",
       "      <th>3</th>\n",
       "      <td>4</td>\n",
       "      <td>Waiting to Exhale (1995)</td>\n",
       "      <td>Comedy|Drama|Romance</td>\n",
       "    </tr>\n",
       "    <tr>\n",
       "      <th>4</th>\n",
       "      <td>5</td>\n",
       "      <td>Father of the Bride Part II (1995)</td>\n",
       "      <td>Comedy</td>\n",
       "    </tr>\n",
       "  </tbody>\n",
       "</table>\n",
       "</div>"
      ],
      "text/plain": [
       "   movieId                               title  \\\n",
       "0        1                    Toy Story (1995)   \n",
       "1        2                      Jumanji (1995)   \n",
       "2        3             Grumpier Old Men (1995)   \n",
       "3        4            Waiting to Exhale (1995)   \n",
       "4        5  Father of the Bride Part II (1995)   \n",
       "\n",
       "                                        genres  \n",
       "0  Adventure|Animation|Children|Comedy|Fantasy  \n",
       "1                   Adventure|Children|Fantasy  \n",
       "2                               Comedy|Romance  \n",
       "3                         Comedy|Drama|Romance  \n",
       "4                                       Comedy  "
      ]
     },
     "execution_count": 4,
     "metadata": {},
     "output_type": "execute_result"
    }
   ],
   "source": [
    "df_movie.head()"
   ]
  },
  {
   "cell_type": "markdown",
   "metadata": {},
   "source": [
    "# Data Cleaning / Pre-processing"
   ]
  },
  {
   "cell_type": "code",
   "execution_count": 5,
   "metadata": {},
   "outputs": [],
   "source": [
    "df_rating = df_rating.drop(columns = ['timestamp'])"
   ]
  },
  {
   "cell_type": "code",
   "execution_count": 6,
   "metadata": {},
   "outputs": [],
   "source": [
    "# drop data with missing values\n",
    "df_rating.dropna(inplace=True)\n",
    "df_movie.dropna(inplace=True)"
   ]
  },
  {
   "cell_type": "code",
   "execution_count": 7,
   "metadata": {},
   "outputs": [],
   "source": [
    "# convert the original rating in the scale of 5 into the rating in the scale of 10.\n",
    "df_rating['rating'] *= 2"
   ]
  },
  {
   "cell_type": "code",
   "execution_count": 8,
   "metadata": {},
   "outputs": [],
   "source": [
    "# The original ratings dataset is too large\n",
    "# we would select the first 2000 users as our training set\n",
    "train = df_rating[df_rating['userId']<=2000]"
   ]
  },
  {
   "cell_type": "code",
   "execution_count": 9,
   "metadata": {},
   "outputs": [],
   "source": [
    "# remove rows without ratings\n",
    "rows_to_drop = []\n",
    "for n in range(len(train)):\n",
    "    if train['movieId'][n] not in df_movie['movieId']:\n",
    "        rows_to_drop.append(n)"
   ]
  },
  {
   "cell_type": "code",
   "execution_count": 10,
   "metadata": {},
   "outputs": [],
   "source": [
    "train = train.drop(rows_to_drop)\n",
    "frames = [train[train['userId'] == i+1][-5:] for i in range(2000)]\n",
    "test = pd.concat(frames)\n",
    "todrop = test.index.values\n",
    "train = train.drop(todrop)"
   ]
  },
  {
   "cell_type": "code",
   "execution_count": 11,
   "metadata": {},
   "outputs": [],
   "source": [
    "# calculate the average ratings\n",
    "average_ratings = {}\n",
    "for index, row in train.iterrows():\n",
    "    if row[1] in average_ratings:\n",
    "        average_ratings[row[1]].append(row[2])\n",
    "    else:\n",
    "        average_ratings[row[1]] = [row[2]]\n",
    "        \n",
    "average_dict = {}\n",
    "for key,value in average_ratings.items():\n",
    "    average_dict[key] = sum(value)/len(value)\n",
    "    \n",
    "train['average_score'] = [average_dict[row[1]] for index,row in train.iterrows()]"
   ]
  },
  {
   "cell_type": "code",
   "execution_count": 12,
   "metadata": {},
   "outputs": [],
   "source": [
    "# append genres to train dataset\n",
    "genre = []\n",
    "for i in train['movieId']:\n",
    "    g = \"\"\n",
    "    for val in df_movie[df_movie['movieId'] == i]['genres']:\n",
    "        g = val\n",
    "    genre.append(g)\n",
    "train['genres'] = genre"
   ]
  },
  {
   "cell_type": "code",
   "execution_count": 13,
   "metadata": {},
   "outputs": [],
   "source": [
    "# calculate variance for each user on each movie\n",
    "train['variance'] = train.apply(lambda row: row.rating - row.average_score, axis=1)"
   ]
  },
  {
   "cell_type": "code",
   "execution_count": 14,
   "metadata": {},
   "outputs": [],
   "source": [
    "# calculate average score for the test set\n",
    "average_ratings = {}\n",
    "for index, row in test.iterrows():\n",
    "    if row[1] in average_ratings:\n",
    "        average_ratings[row[1]].append(row[2])\n",
    "    else:\n",
    "        average_ratings[row[1]] = [row[2]]\n",
    "\n",
    "average_dict = {}\n",
    "for key,value in average_ratings.items():\n",
    "    average_dict[key] = sum(value)/len(value)\n",
    "\n",
    "test['average_score'] = [average_dict[row[1]] for index,row in test.iterrows()]"
   ]
  },
  {
   "cell_type": "code",
   "execution_count": 15,
   "metadata": {},
   "outputs": [],
   "source": [
    "# append genres to the test set\n",
    "genre = []\n",
    "for i in test['movieId']:\n",
    "    g = \"\"\n",
    "    for val in df_movie[df_movie['movieId'] == i]['genres']:\n",
    "        g = val\n",
    "    genre.append(g)\n",
    "test['genres'] = genre"
   ]
  },
  {
   "cell_type": "code",
   "execution_count": 105,
   "metadata": {},
   "outputs": [],
   "source": [
    "test['variance'] = test.apply(lambda row: row.rating - row.average_score, axis=1)\n",
    "test['recommend'] = test.apply(lambda row: row.rating >= 6.0, axis=1)"
   ]
  },
  {
   "cell_type": "code",
   "execution_count": 106,
   "metadata": {},
   "outputs": [
    {
     "data": {
      "text/html": [
       "<div>\n",
       "<style scoped>\n",
       "    .dataframe tbody tr th:only-of-type {\n",
       "        vertical-align: middle;\n",
       "    }\n",
       "\n",
       "    .dataframe tbody tr th {\n",
       "        vertical-align: top;\n",
       "    }\n",
       "\n",
       "    .dataframe thead th {\n",
       "        text-align: right;\n",
       "    }\n",
       "</style>\n",
       "<table border=\"1\" class=\"dataframe\">\n",
       "  <thead>\n",
       "    <tr style=\"text-align: right;\">\n",
       "      <th></th>\n",
       "      <th>userId</th>\n",
       "      <th>movieId</th>\n",
       "      <th>rating</th>\n",
       "      <th>average_score</th>\n",
       "      <th>genres</th>\n",
       "      <th>variance</th>\n",
       "    </tr>\n",
       "  </thead>\n",
       "  <tbody>\n",
       "    <tr>\n",
       "      <th>0</th>\n",
       "      <td>1</td>\n",
       "      <td>2</td>\n",
       "      <td>7.0</td>\n",
       "      <td>6.484076</td>\n",
       "      <td>Adventure|Children|Fantasy</td>\n",
       "      <td>0.515924</td>\n",
       "    </tr>\n",
       "    <tr>\n",
       "      <th>1</th>\n",
       "      <td>1</td>\n",
       "      <td>29</td>\n",
       "      <td>7.0</td>\n",
       "      <td>7.825397</td>\n",
       "      <td>Adventure|Drama|Fantasy|Mystery|Sci-Fi</td>\n",
       "      <td>-0.825397</td>\n",
       "    </tr>\n",
       "    <tr>\n",
       "      <th>2</th>\n",
       "      <td>1</td>\n",
       "      <td>32</td>\n",
       "      <td>7.0</td>\n",
       "      <td>7.763955</td>\n",
       "      <td>Mystery|Sci-Fi|Thriller</td>\n",
       "      <td>-0.763955</td>\n",
       "    </tr>\n",
       "    <tr>\n",
       "      <th>3</th>\n",
       "      <td>1</td>\n",
       "      <td>47</td>\n",
       "      <td>7.0</td>\n",
       "      <td>8.200632</td>\n",
       "      <td>Mystery|Thriller</td>\n",
       "      <td>-1.200632</td>\n",
       "    </tr>\n",
       "    <tr>\n",
       "      <th>4</th>\n",
       "      <td>1</td>\n",
       "      <td>50</td>\n",
       "      <td>7.0</td>\n",
       "      <td>8.773723</td>\n",
       "      <td>Crime|Mystery|Thriller</td>\n",
       "      <td>-1.773723</td>\n",
       "    </tr>\n",
       "  </tbody>\n",
       "</table>\n",
       "</div>"
      ],
      "text/plain": [
       "   userId  movieId  rating  average_score  \\\n",
       "0       1        2     7.0       6.484076   \n",
       "1       1       29     7.0       7.825397   \n",
       "2       1       32     7.0       7.763955   \n",
       "3       1       47     7.0       8.200632   \n",
       "4       1       50     7.0       8.773723   \n",
       "\n",
       "                                   genres  variance  \n",
       "0              Adventure|Children|Fantasy  0.515924  \n",
       "1  Adventure|Drama|Fantasy|Mystery|Sci-Fi -0.825397  \n",
       "2                 Mystery|Sci-Fi|Thriller -0.763955  \n",
       "3                        Mystery|Thriller -1.200632  \n",
       "4                  Crime|Mystery|Thriller -1.773723  "
      ]
     },
     "execution_count": 106,
     "metadata": {},
     "output_type": "execute_result"
    }
   ],
   "source": [
    "train.head()"
   ]
  },
  {
   "cell_type": "code",
   "execution_count": 107,
   "metadata": {},
   "outputs": [
    {
     "data": {
      "text/html": [
       "<div>\n",
       "<style scoped>\n",
       "    .dataframe tbody tr th:only-of-type {\n",
       "        vertical-align: middle;\n",
       "    }\n",
       "\n",
       "    .dataframe tbody tr th {\n",
       "        vertical-align: top;\n",
       "    }\n",
       "\n",
       "    .dataframe thead th {\n",
       "        text-align: right;\n",
       "    }\n",
       "</style>\n",
       "<table border=\"1\" class=\"dataframe\">\n",
       "  <thead>\n",
       "    <tr style=\"text-align: right;\">\n",
       "      <th></th>\n",
       "      <th>userId</th>\n",
       "      <th>movieId</th>\n",
       "      <th>rating</th>\n",
       "      <th>average_score</th>\n",
       "      <th>genres</th>\n",
       "      <th>variance</th>\n",
       "      <th>recommend</th>\n",
       "    </tr>\n",
       "  </thead>\n",
       "  <tbody>\n",
       "    <tr>\n",
       "      <th>169</th>\n",
       "      <td>1</td>\n",
       "      <td>8482</td>\n",
       "      <td>7.0</td>\n",
       "      <td>8.000000</td>\n",
       "      <td>Drama|Fantasy|Horror</td>\n",
       "      <td>-1.000000</td>\n",
       "      <td>True</td>\n",
       "    </tr>\n",
       "    <tr>\n",
       "      <th>170</th>\n",
       "      <td>1</td>\n",
       "      <td>8507</td>\n",
       "      <td>10.0</td>\n",
       "      <td>8.500000</td>\n",
       "      <td>Crime|Drama|Horror</td>\n",
       "      <td>1.500000</td>\n",
       "      <td>True</td>\n",
       "    </tr>\n",
       "    <tr>\n",
       "      <th>171</th>\n",
       "      <td>1</td>\n",
       "      <td>8636</td>\n",
       "      <td>9.0</td>\n",
       "      <td>7.242105</td>\n",
       "      <td>Action|Adventure|Sci-Fi|IMAX</td>\n",
       "      <td>1.757895</td>\n",
       "      <td>True</td>\n",
       "    </tr>\n",
       "    <tr>\n",
       "      <th>172</th>\n",
       "      <td>1</td>\n",
       "      <td>8690</td>\n",
       "      <td>7.0</td>\n",
       "      <td>7.000000</td>\n",
       "      <td>Comedy|Drama|Sci-Fi|War</td>\n",
       "      <td>0.000000</td>\n",
       "      <td>True</td>\n",
       "    </tr>\n",
       "    <tr>\n",
       "      <th>173</th>\n",
       "      <td>1</td>\n",
       "      <td>8961</td>\n",
       "      <td>8.0</td>\n",
       "      <td>7.568889</td>\n",
       "      <td>Action|Adventure|Animation|Children|Comedy</td>\n",
       "      <td>0.431111</td>\n",
       "      <td>True</td>\n",
       "    </tr>\n",
       "  </tbody>\n",
       "</table>\n",
       "</div>"
      ],
      "text/plain": [
       "     userId  movieId  rating  average_score  \\\n",
       "169       1     8482     7.0       8.000000   \n",
       "170       1     8507    10.0       8.500000   \n",
       "171       1     8636     9.0       7.242105   \n",
       "172       1     8690     7.0       7.000000   \n",
       "173       1     8961     8.0       7.568889   \n",
       "\n",
       "                                         genres  variance  recommend  \n",
       "169                        Drama|Fantasy|Horror -1.000000       True  \n",
       "170                          Crime|Drama|Horror  1.500000       True  \n",
       "171                Action|Adventure|Sci-Fi|IMAX  1.757895       True  \n",
       "172                     Comedy|Drama|Sci-Fi|War  0.000000       True  \n",
       "173  Action|Adventure|Animation|Children|Comedy  0.431111       True  "
      ]
     },
     "execution_count": 107,
     "metadata": {},
     "output_type": "execute_result"
    }
   ],
   "source": [
    "test.head()"
   ]
  },
  {
   "cell_type": "code",
   "execution_count": 19,
   "metadata": {},
   "outputs": [],
   "source": [
    "train.to_csv('train.csv')\n",
    "test.to_csv('test.csv')"
   ]
  },
  {
   "cell_type": "markdown",
   "metadata": {},
   "source": [
    "# Data Visualization"
   ]
  },
  {
   "cell_type": "markdown",
   "metadata": {},
   "source": [
    "##   Graph 1 Scatter matrix of the dataframe"
   ]
  },
  {
   "cell_type": "code",
   "execution_count": 44,
   "metadata": {},
   "outputs": [
    {
     "data": {
      "image/png": "[encoded data removed]",
      "text/plain": [
       "<Figure size 432x288 with 9 Axes>"
      ]
     },
     "metadata": {
      "needs_background": "light"
     },
     "output_type": "display_data"
    }
   ],
   "source": [
    "fig = pd.plotting.scatter_matrix(train[['rating','average_score','variance']])"
   ]
  },
  {
   "cell_type": "markdown",
   "metadata": {},
   "source": [
    "## Graph 2 Average rating of each genre"
   ]
  },
  {
   "cell_type": "code",
   "execution_count": 21,
   "metadata": {},
   "outputs": [],
   "source": [
    "score_dict = {}\n",
    "for index, row in train.iterrows():\n",
    "    genres = row[4].split('|')\n",
    "    for gen in genres:\n",
    "        if gen in score_dict:\n",
    "            score_dict[gen].append(row[3])\n",
    "        else:\n",
    "            score_dict[gen] = [row[3]]"
   ]
  },
  {
   "cell_type": "code",
   "execution_count": 46,
   "metadata": {},
   "outputs": [
    {
     "data": {
      "image/png": "[encoded data removed]",
      "text/plain": [
       "<Figure size 432x288 with 1 Axes>"
      ]
     },
     "metadata": {
      "needs_background": "light"
     },
     "output_type": "display_data"
    }
   ],
   "source": [
    "plt.boxplot(score_dict.values())\n",
    "plt.xticks(list(range(1,20)),score_dict.keys(), rotation=90)\n",
    "plt.xlabel('genres')\n",
    "plt.ylabel('average ratings')\n",
    "fig = plt.gcf()"
   ]
  },
  {
   "cell_type": "markdown",
   "metadata": {},
   "source": [
    "##  Graph 3 Number of films in each genre"
   ]
  },
  {
   "cell_type": "code",
   "execution_count": 47,
   "metadata": {},
   "outputs": [],
   "source": [
    "count = defaultdict(int)\n",
    "for index, row in train.iterrows():\n",
    "    genres = row[4].split('|')\n",
    "    for gen in genres:\n",
    "        count[gen] += 1"
   ]
  },
  {
   "cell_type": "code",
   "execution_count": 48,
   "metadata": {},
   "outputs": [
    {
     "data": {
      "image/png": "[encoded data removed]",
      "text/plain": [
       "<Figure size 432x288 with 1 Axes>"
      ]
     },
     "metadata": {
      "needs_background": "light"
     },
     "output_type": "display_data"
    }
   ],
   "source": [
    "plt.bar(count.keys(), count.values(),color='g')\n",
    "plt.xticks(rotation=90)\n",
    "plt.xlabel('genres')\n",
    "plt.ylabel('number of films')\n",
    "fig = plt.gcf()"
   ]
  },
  {
   "cell_type": "markdown",
   "metadata": {},
   "source": [
    "## Graph 4 Number of films each user rates"
   ]
  },
  {
   "cell_type": "code",
   "execution_count": 49,
   "metadata": {},
   "outputs": [],
   "source": [
    "count_rating = defaultdict(int)\n",
    "for index, row in train.iterrows():\n",
    "    count_rating[row[0]] += 1"
   ]
  },
  {
   "cell_type": "code",
   "execution_count": 50,
   "metadata": {},
   "outputs": [
    {
     "data": {
      "image/png": "[encoded data removed]",
      "text/plain": [
       "<Figure size 432x288 with 1 Axes>"
      ]
     },
     "metadata": {
      "needs_background": "light"
     },
     "output_type": "display_data"
    }
   ],
   "source": [
    "plt.hist(count_rating.values(),bins=500)\n",
    "plt.xlabel('number of films')\n",
    "plt.ylabel('number of users')\n",
    "fig = plt.gcf()"
   ]
  },
  {
   "cell_type": "markdown",
   "metadata": {},
   "source": [
    "## Graph 5 Variance of ratings of each genre of films"
   ]
  },
  {
   "cell_type": "code",
   "execution_count": 51,
   "metadata": {},
   "outputs": [],
   "source": [
    "variance = defaultdict(float)\n",
    "for index, row in train.iterrows():\n",
    "    genres = row[4].split('|')\n",
    "    for gen in genres:\n",
    "        variance[gen] += row[5]"
   ]
  },
  {
   "cell_type": "code",
   "execution_count": 52,
   "metadata": {},
   "outputs": [
    {
     "data": {
      "image/png": "[encoded data removed]",
      "text/plain": [
       "<Figure size 432x288 with 1 Axes>"
      ]
     },
     "metadata": {
      "needs_background": "light"
     },
     "output_type": "display_data"
    }
   ],
   "source": [
    "plt.bar(variance.keys(), variance.values(),color='y')\n",
    "plt.xticks(rotation=90)\n",
    "plt.xlabel('genres')\n",
    "plt.ylabel('variance of ratings')\n",
    "fig = plt.gcf()"
   ]
  },
  {
   "cell_type": "markdown",
   "metadata": {},
   "source": [
    "# Data Analysis & Results"
   ]
  },
  {
   "cell_type": "markdown",
   "metadata": {},
   "source": [
    "## Cosine Similarity"
   ]
  },
  {
   "cell_type": "code",
   "execution_count": 56,
   "metadata": {},
   "outputs": [],
   "source": [
    "import math\n",
    "from collections import Counter\n",
    "def counter_cosine_similarity(c1, c2):\n",
    "    terms = set(c1).union(c2)\n",
    "    dotprod = sum(c1.get(k, 0) * c2.get(k, 0) for k in terms)\n",
    "    magA = math.sqrt(sum(c1.get(k, 0)**2 for k in terms))\n",
    "    magB = math.sqrt(sum(c2.get(k, 0)**2 for k in terms))\n",
    "    if magA * magB == 0:\n",
    "        return 0\n",
    "    return dotprod / (magA * magB)"
   ]
  },
  {
   "cell_type": "code",
   "execution_count": 57,
   "metadata": {},
   "outputs": [],
   "source": [
    "users = {}\n",
    "for index,row in train.iterrows():\n",
    "    if row[0] in users:\n",
    "        users[row[0]].extend(row[4].split('|'))\n",
    "    else:\n",
    "        users[row[0]] = row[4].split('|')"
   ]
  },
  {
   "cell_type": "code",
   "execution_count": 58,
   "metadata": {},
   "outputs": [],
   "source": [
    "for key in users:\n",
    "    users[key] = list(set(users[key]))"
   ]
  },
  {
   "cell_type": "code",
   "execution_count": 112,
   "metadata": {},
   "outputs": [],
   "source": [
    "answer = list(test.apply(lambda row: 1 if row.rating >= 6.0 else -1, axis=1))"
   ]
  },
  {
   "cell_type": "code",
   "execution_count": 113,
   "metadata": {},
   "outputs": [],
   "source": [
    "pred = []\n",
    "for index,row in test.iterrows():\n",
    "    if row[0] not in users:\n",
    "        pred.append(False)\n",
    "    else:\n",
    "        counterA = Counter(users[row[0]])\n",
    "        counterB = Counter(row[4].split('|'))\n",
    "        res = counter_cosine_similarity(counterA,counterB)\n",
    "        if res > 0.3:\n",
    "            pred.append(1)\n",
    "        else:\n",
    "            pred.append(-1)"
   ]
  },
  {
   "cell_type": "code",
   "execution_count": 117,
   "metadata": {},
   "outputs": [
    {
     "data": {
      "text/plain": [
       "0.7698619171502902"
      ]
     },
     "execution_count": 117,
     "metadata": {},
     "output_type": "execute_result"
    }
   ],
   "source": [
    "sum(np.array(pred) == np.array(answer)) / len(answer)"
   ]
  },
  {
   "cell_type": "markdown",
   "metadata": {},
   "source": [
    "## Classic method"
   ]
  },
  {
   "cell_type": "markdown",
   "metadata": {},
   "source": [
    "### We calculate each user's average rating for each genre of movie first and save into a dataframe"
   ]
  },
  {
   "cell_type": "code",
   "execution_count": 118,
   "metadata": {},
   "outputs": [],
   "source": [
    "user_rating = defaultdict(list)\n",
    "genre_rating = defaultdict(list)\n",
    "last_user = 1\n",
    "for index, row in train.iterrows():\n",
    "    if row[0] != last_user:\n",
    "        user_rating[last_user] = genre_rating\n",
    "        genre_rating = defaultdict(list)\n",
    "        last_user = row[0]\n",
    "    genres = row[4].split('|')\n",
    "    for gen in genres:\n",
    "        genre_rating[gen].append(row[3])  "
   ]
  },
  {
   "cell_type": "code",
   "execution_count": 119,
   "metadata": {},
   "outputs": [],
   "source": [
    "for user,rating in user_rating.items():\n",
    "    for key,value in rating.items():\n",
    "        rating[key] = [sum(value)/len(value)]"
   ]
  },
  {
   "cell_type": "code",
   "execution_count": 120,
   "metadata": {},
   "outputs": [],
   "source": [
    "frames = []\n",
    "for user,rating in user_rating.items():\n",
    "    data = pd.DataFrame.from_dict(rating)\n",
    "    frames.append(data)"
   ]
  },
  {
   "cell_type": "code",
   "execution_count": 121,
   "metadata": {},
   "outputs": [],
   "source": [
    "df_user = pd.concat(frames,sort=False)"
   ]
  },
  {
   "cell_type": "code",
   "execution_count": 122,
   "metadata": {},
   "outputs": [],
   "source": [
    "df_user.set_index(pd.Series(list(user_rating.keys())),inplace=True)\n",
    "df_user.index.name = 'userId'"
   ]
  },
  {
   "cell_type": "code",
   "execution_count": 123,
   "metadata": {},
   "outputs": [
    {
     "data": {
      "text/html": [
       "<div>\n",
       "<style scoped>\n",
       "    .dataframe tbody tr th:only-of-type {\n",
       "        vertical-align: middle;\n",
       "    }\n",
       "\n",
       "    .dataframe tbody tr th {\n",
       "        vertical-align: top;\n",
       "    }\n",
       "\n",
       "    .dataframe thead th {\n",
       "        text-align: right;\n",
       "    }\n",
       "</style>\n",
       "<table border=\"1\" class=\"dataframe\">\n",
       "  <thead>\n",
       "    <tr style=\"text-align: right;\">\n",
       "      <th></th>\n",
       "      <th>Adventure</th>\n",
       "      <th>Children</th>\n",
       "      <th>Fantasy</th>\n",
       "      <th>Drama</th>\n",
       "      <th>Mystery</th>\n",
       "      <th>Sci-Fi</th>\n",
       "      <th>Thriller</th>\n",
       "      <th>Crime</th>\n",
       "      <th>Action</th>\n",
       "      <th>Comedy</th>\n",
       "      <th>Romance</th>\n",
       "      <th>War</th>\n",
       "      <th>Horror</th>\n",
       "      <th>Musical</th>\n",
       "      <th>Western</th>\n",
       "      <th>Animation</th>\n",
       "      <th>IMAX</th>\n",
       "      <th>Film-Noir</th>\n",
       "      <th>Documentary</th>\n",
       "    </tr>\n",
       "    <tr>\n",
       "      <th>userId</th>\n",
       "      <th></th>\n",
       "      <th></th>\n",
       "      <th></th>\n",
       "      <th></th>\n",
       "      <th></th>\n",
       "      <th></th>\n",
       "      <th></th>\n",
       "      <th></th>\n",
       "      <th></th>\n",
       "      <th></th>\n",
       "      <th></th>\n",
       "      <th></th>\n",
       "      <th></th>\n",
       "      <th></th>\n",
       "      <th></th>\n",
       "      <th></th>\n",
       "      <th></th>\n",
       "      <th></th>\n",
       "      <th></th>\n",
       "    </tr>\n",
       "  </thead>\n",
       "  <tbody>\n",
       "    <tr>\n",
       "      <th>1</th>\n",
       "      <td>6.904455</td>\n",
       "      <td>6.599082</td>\n",
       "      <td>6.714009</td>\n",
       "      <td>7.756397</td>\n",
       "      <td>7.564128</td>\n",
       "      <td>7.117860</td>\n",
       "      <td>7.541193</td>\n",
       "      <td>7.891915</td>\n",
       "      <td>7.174452</td>\n",
       "      <td>7.107212</td>\n",
       "      <td>7.167975</td>\n",
       "      <td>7.627261</td>\n",
       "      <td>7.252730</td>\n",
       "      <td>7.413226</td>\n",
       "      <td>8.072794</td>\n",
       "      <td>6.883448</td>\n",
       "      <td>7.153846</td>\n",
       "      <td>NaN</td>\n",
       "      <td>NaN</td>\n",
       "    </tr>\n",
       "    <tr>\n",
       "      <th>2</th>\n",
       "      <td>7.583858</td>\n",
       "      <td>6.800000</td>\n",
       "      <td>7.405844</td>\n",
       "      <td>6.955556</td>\n",
       "      <td>6.645124</td>\n",
       "      <td>7.249075</td>\n",
       "      <td>6.721317</td>\n",
       "      <td>7.605442</td>\n",
       "      <td>7.511103</td>\n",
       "      <td>7.201896</td>\n",
       "      <td>7.140797</td>\n",
       "      <td>7.233164</td>\n",
       "      <td>5.746337</td>\n",
       "      <td>6.358333</td>\n",
       "      <td>7.438098</td>\n",
       "      <td>6.800000</td>\n",
       "      <td>6.800000</td>\n",
       "      <td>7.331361</td>\n",
       "      <td>NaN</td>\n",
       "    </tr>\n",
       "    <tr>\n",
       "      <th>3</th>\n",
       "      <td>6.950747</td>\n",
       "      <td>6.582382</td>\n",
       "      <td>7.217240</td>\n",
       "      <td>7.478415</td>\n",
       "      <td>7.198036</td>\n",
       "      <td>6.572171</td>\n",
       "      <td>7.057244</td>\n",
       "      <td>7.602656</td>\n",
       "      <td>6.775073</td>\n",
       "      <td>7.170722</td>\n",
       "      <td>7.461883</td>\n",
       "      <td>8.083648</td>\n",
       "      <td>6.567031</td>\n",
       "      <td>7.332899</td>\n",
       "      <td>7.488070</td>\n",
       "      <td>7.273578</td>\n",
       "      <td>NaN</td>\n",
       "      <td>7.082474</td>\n",
       "      <td>NaN</td>\n",
       "    </tr>\n",
       "    <tr>\n",
       "      <th>4</th>\n",
       "      <td>6.950745</td>\n",
       "      <td>7.039604</td>\n",
       "      <td>6.492986</td>\n",
       "      <td>6.828523</td>\n",
       "      <td>6.844158</td>\n",
       "      <td>6.571817</td>\n",
       "      <td>6.757774</td>\n",
       "      <td>6.464301</td>\n",
       "      <td>6.509078</td>\n",
       "      <td>6.391294</td>\n",
       "      <td>7.382287</td>\n",
       "      <td>8.158996</td>\n",
       "      <td>NaN</td>\n",
       "      <td>NaN</td>\n",
       "      <td>6.818533</td>\n",
       "      <td>NaN</td>\n",
       "      <td>NaN</td>\n",
       "      <td>NaN</td>\n",
       "      <td>NaN</td>\n",
       "    </tr>\n",
       "    <tr>\n",
       "      <th>5</th>\n",
       "      <td>7.081901</td>\n",
       "      <td>6.969567</td>\n",
       "      <td>6.786151</td>\n",
       "      <td>7.365239</td>\n",
       "      <td>6.899794</td>\n",
       "      <td>7.163044</td>\n",
       "      <td>7.216021</td>\n",
       "      <td>7.757410</td>\n",
       "      <td>7.086818</td>\n",
       "      <td>7.129127</td>\n",
       "      <td>6.915229</td>\n",
       "      <td>8.053777</td>\n",
       "      <td>8.268519</td>\n",
       "      <td>7.122426</td>\n",
       "      <td>7.083804</td>\n",
       "      <td>7.114327</td>\n",
       "      <td>7.546939</td>\n",
       "      <td>NaN</td>\n",
       "      <td>NaN</td>\n",
       "    </tr>\n",
       "  </tbody>\n",
       "</table>\n",
       "</div>"
      ],
      "text/plain": [
       "        Adventure  Children   Fantasy     Drama   Mystery    Sci-Fi  Thriller  \\\n",
       "userId                                                                          \n",
       "1        6.904455  6.599082  6.714009  7.756397  7.564128  7.117860  7.541193   \n",
       "2        7.583858  6.800000  7.405844  6.955556  6.645124  7.249075  6.721317   \n",
       "3        6.950747  6.582382  7.217240  7.478415  7.198036  6.572171  7.057244   \n",
       "4        6.950745  7.039604  6.492986  6.828523  6.844158  6.571817  6.757774   \n",
       "5        7.081901  6.969567  6.786151  7.365239  6.899794  7.163044  7.216021   \n",
       "\n",
       "           Crime    Action    Comedy   Romance       War    Horror   Musical  \\\n",
       "userId                                                                         \n",
       "1       7.891915  7.174452  7.107212  7.167975  7.627261  7.252730  7.413226   \n",
       "2       7.605442  7.511103  7.201896  7.140797  7.233164  5.746337  6.358333   \n",
       "3       7.602656  6.775073  7.170722  7.461883  8.083648  6.567031  7.332899   \n",
       "4       6.464301  6.509078  6.391294  7.382287  8.158996       NaN       NaN   \n",
       "5       7.757410  7.086818  7.129127  6.915229  8.053777  8.268519  7.122426   \n",
       "\n",
       "         Western  Animation      IMAX  Film-Noir  Documentary  \n",
       "userId                                                         \n",
       "1       8.072794   6.883448  7.153846        NaN          NaN  \n",
       "2       7.438098   6.800000  6.800000   7.331361          NaN  \n",
       "3       7.488070   7.273578       NaN   7.082474          NaN  \n",
       "4       6.818533        NaN       NaN        NaN          NaN  \n",
       "5       7.083804   7.114327  7.546939        NaN          NaN  "
      ]
     },
     "execution_count": 123,
     "metadata": {},
     "output_type": "execute_result"
    }
   ],
   "source": [
    "df_user.head()"
   ]
  },
  {
   "cell_type": "markdown",
   "metadata": {},
   "source": [
    "### We calculate the number of each genre of movies each user watches and save into another dataframe"
   ]
  },
  {
   "cell_type": "code",
   "execution_count": 124,
   "metadata": {},
   "outputs": [],
   "source": [
    "user_count = defaultdict(list)\n",
    "genre_count = defaultdict(int)\n",
    "last_user = 1\n",
    "for index, row in train.iterrows():\n",
    "    if row[0] != last_user:\n",
    "        user_count[last_user] = genre_count\n",
    "        genre_count = defaultdict(int)\n",
    "        last_user = row[0]\n",
    "    genres = row[4].split('|')\n",
    "    for gen in genres:\n",
    "        genre_count[gen] += 1 "
   ]
  },
  {
   "cell_type": "code",
   "execution_count": 125,
   "metadata": {},
   "outputs": [],
   "source": [
    "for user,count in user_count.items():\n",
    "    for key,value in count.items():\n",
    "        count[key] = [value]\n",
    "        \n",
    "frames = []\n",
    "for user,count in user_count.items():\n",
    "    data = pd.DataFrame.from_dict(count)\n",
    "    frames.append(data)\n",
    "\n",
    "df_count = pd.concat(frames,sort=False)\n",
    "df_count.set_index(pd.Series(list(user_count.keys())),inplace=True)\n",
    "df_count.index.name = 'userId'"
   ]
  },
  {
   "cell_type": "code",
   "execution_count": 126,
   "metadata": {},
   "outputs": [
    {
     "data": {
      "text/html": [
       "<div>\n",
       "<style scoped>\n",
       "    .dataframe tbody tr th:only-of-type {\n",
       "        vertical-align: middle;\n",
       "    }\n",
       "\n",
       "    .dataframe tbody tr th {\n",
       "        vertical-align: top;\n",
       "    }\n",
       "\n",
       "    .dataframe thead th {\n",
       "        text-align: right;\n",
       "    }\n",
       "</style>\n",
       "<table border=\"1\" class=\"dataframe\">\n",
       "  <thead>\n",
       "    <tr style=\"text-align: right;\">\n",
       "      <th></th>\n",
       "      <th>Adventure</th>\n",
       "      <th>Children</th>\n",
       "      <th>Fantasy</th>\n",
       "      <th>Drama</th>\n",
       "      <th>Mystery</th>\n",
       "      <th>Sci-Fi</th>\n",
       "      <th>Thriller</th>\n",
       "      <th>Crime</th>\n",
       "      <th>Action</th>\n",
       "      <th>Comedy</th>\n",
       "      <th>Romance</th>\n",
       "      <th>War</th>\n",
       "      <th>Horror</th>\n",
       "      <th>Musical</th>\n",
       "      <th>Western</th>\n",
       "      <th>Animation</th>\n",
       "      <th>IMAX</th>\n",
       "      <th>Film-Noir</th>\n",
       "      <th>Documentary</th>\n",
       "    </tr>\n",
       "    <tr>\n",
       "      <th>userId</th>\n",
       "      <th></th>\n",
       "      <th></th>\n",
       "      <th></th>\n",
       "      <th></th>\n",
       "      <th></th>\n",
       "      <th></th>\n",
       "      <th></th>\n",
       "      <th></th>\n",
       "      <th></th>\n",
       "      <th></th>\n",
       "      <th></th>\n",
       "      <th></th>\n",
       "      <th></th>\n",
       "      <th></th>\n",
       "      <th></th>\n",
       "      <th></th>\n",
       "      <th></th>\n",
       "      <th></th>\n",
       "      <th></th>\n",
       "    </tr>\n",
       "  </thead>\n",
       "  <tbody>\n",
       "    <tr>\n",
       "      <th>1</th>\n",
       "      <td>71.0</td>\n",
       "      <td>18.0</td>\n",
       "      <td>67.0</td>\n",
       "      <td>40.0</td>\n",
       "      <td>18.0</td>\n",
       "      <td>38.0</td>\n",
       "      <td>41.0</td>\n",
       "      <td>20.0</td>\n",
       "      <td>63.0</td>\n",
       "      <td>39.0</td>\n",
       "      <td>11.0</td>\n",
       "      <td>8.0</td>\n",
       "      <td>42.0</td>\n",
       "      <td>3.0</td>\n",
       "      <td>4.0</td>\n",
       "      <td>9.0</td>\n",
       "      <td>1.0</td>\n",
       "      <td>NaN</td>\n",
       "      <td>NaN</td>\n",
       "    </tr>\n",
       "    <tr>\n",
       "      <th>2</th>\n",
       "      <td>14.0</td>\n",
       "      <td>1.0</td>\n",
       "      <td>1.0</td>\n",
       "      <td>19.0</td>\n",
       "      <td>4.0</td>\n",
       "      <td>19.0</td>\n",
       "      <td>18.0</td>\n",
       "      <td>1.0</td>\n",
       "      <td>18.0</td>\n",
       "      <td>9.0</td>\n",
       "      <td>6.0</td>\n",
       "      <td>4.0</td>\n",
       "      <td>16.0</td>\n",
       "      <td>2.0</td>\n",
       "      <td>2.0</td>\n",
       "      <td>1.0</td>\n",
       "      <td>1.0</td>\n",
       "      <td>1.0</td>\n",
       "      <td>NaN</td>\n",
       "    </tr>\n",
       "    <tr>\n",
       "      <th>3</th>\n",
       "      <td>49.0</td>\n",
       "      <td>10.0</td>\n",
       "      <td>20.0</td>\n",
       "      <td>56.0</td>\n",
       "      <td>11.0</td>\n",
       "      <td>92.0</td>\n",
       "      <td>50.0</td>\n",
       "      <td>21.0</td>\n",
       "      <td>61.0</td>\n",
       "      <td>49.0</td>\n",
       "      <td>15.0</td>\n",
       "      <td>5.0</td>\n",
       "      <td>32.0</td>\n",
       "      <td>5.0</td>\n",
       "      <td>3.0</td>\n",
       "      <td>4.0</td>\n",
       "      <td>NaN</td>\n",
       "      <td>1.0</td>\n",
       "      <td>NaN</td>\n",
       "    </tr>\n",
       "    <tr>\n",
       "      <th>4</th>\n",
       "      <td>5.0</td>\n",
       "      <td>1.0</td>\n",
       "      <td>1.0</td>\n",
       "      <td>7.0</td>\n",
       "      <td>3.0</td>\n",
       "      <td>4.0</td>\n",
       "      <td>12.0</td>\n",
       "      <td>6.0</td>\n",
       "      <td>11.0</td>\n",
       "      <td>10.0</td>\n",
       "      <td>4.0</td>\n",
       "      <td>1.0</td>\n",
       "      <td>NaN</td>\n",
       "      <td>NaN</td>\n",
       "      <td>1.0</td>\n",
       "      <td>NaN</td>\n",
       "      <td>NaN</td>\n",
       "      <td>NaN</td>\n",
       "      <td>NaN</td>\n",
       "    </tr>\n",
       "    <tr>\n",
       "      <th>5</th>\n",
       "      <td>17.0</td>\n",
       "      <td>11.0</td>\n",
       "      <td>11.0</td>\n",
       "      <td>26.0</td>\n",
       "      <td>2.0</td>\n",
       "      <td>8.0</td>\n",
       "      <td>15.0</td>\n",
       "      <td>7.0</td>\n",
       "      <td>14.0</td>\n",
       "      <td>24.0</td>\n",
       "      <td>15.0</td>\n",
       "      <td>1.0</td>\n",
       "      <td>1.0</td>\n",
       "      <td>8.0</td>\n",
       "      <td>2.0</td>\n",
       "      <td>6.0</td>\n",
       "      <td>3.0</td>\n",
       "      <td>NaN</td>\n",
       "      <td>NaN</td>\n",
       "    </tr>\n",
       "  </tbody>\n",
       "</table>\n",
       "</div>"
      ],
      "text/plain": [
       "        Adventure  Children  Fantasy  Drama  Mystery  Sci-Fi  Thriller  Crime  \\\n",
       "userId                                                                          \n",
       "1            71.0      18.0     67.0   40.0     18.0    38.0      41.0   20.0   \n",
       "2            14.0       1.0      1.0   19.0      4.0    19.0      18.0    1.0   \n",
       "3            49.0      10.0     20.0   56.0     11.0    92.0      50.0   21.0   \n",
       "4             5.0       1.0      1.0    7.0      3.0     4.0      12.0    6.0   \n",
       "5            17.0      11.0     11.0   26.0      2.0     8.0      15.0    7.0   \n",
       "\n",
       "        Action  Comedy  Romance  War  Horror  Musical  Western  Animation  \\\n",
       "userId                                                                      \n",
       "1         63.0    39.0     11.0  8.0    42.0      3.0      4.0        9.0   \n",
       "2         18.0     9.0      6.0  4.0    16.0      2.0      2.0        1.0   \n",
       "3         61.0    49.0     15.0  5.0    32.0      5.0      3.0        4.0   \n",
       "4         11.0    10.0      4.0  1.0     NaN      NaN      1.0        NaN   \n",
       "5         14.0    24.0     15.0  1.0     1.0      8.0      2.0        6.0   \n",
       "\n",
       "        IMAX  Film-Noir  Documentary  \n",
       "userId                                \n",
       "1        1.0        NaN          NaN  \n",
       "2        1.0        1.0          NaN  \n",
       "3        NaN        1.0          NaN  \n",
       "4        NaN        NaN          NaN  \n",
       "5        3.0        NaN          NaN  "
      ]
     },
     "execution_count": 126,
     "metadata": {},
     "output_type": "execute_result"
    }
   ],
   "source": [
    "df_count.head()"
   ]
  },
  {
   "cell_type": "markdown",
   "metadata": {},
   "source": [
    "### predict based on the average rating of each user on each genre"
   ]
  },
  {
   "cell_type": "code",
   "execution_count": 127,
   "metadata": {},
   "outputs": [],
   "source": [
    "user_prefer_score = defaultdict(list)\n",
    "for index,row in df_user.iterrows():\n",
    "    for i in range(len(row)):\n",
    "        if row[i] > 7:\n",
    "            user_prefer_score[index].append(df_user.columns[i])"
   ]
  },
  {
   "cell_type": "code",
   "execution_count": 134,
   "metadata": {},
   "outputs": [],
   "source": [
    "answer = list(test.apply(lambda row: 1 if row.rating >= 6.0 else -1, axis=1))"
   ]
  },
  {
   "cell_type": "code",
   "execution_count": 135,
   "metadata": {},
   "outputs": [],
   "source": [
    "pred = []\n",
    "for index,row in test.iterrows():\n",
    "    if row[0] not in df_user.index:\n",
    "        pred.append(-1)\n",
    "    else:\n",
    "        if set(user_prefer_score[row[0]]) & set(row[4].split('|')):\n",
    "            pred.append(1)\n",
    "        else:\n",
    "            pred.append(-1)"
   ]
  },
  {
   "cell_type": "code",
   "execution_count": 136,
   "metadata": {},
   "outputs": [
    {
     "data": {
      "text/plain": [
       "0.7307384430658395"
      ]
     },
     "execution_count": 136,
     "metadata": {},
     "output_type": "execute_result"
    }
   ],
   "source": [
    "sum(np.array(pred) == np.array(answer)) / len(answer)"
   ]
  },
  {
   "cell_type": "markdown",
   "metadata": {},
   "source": [
    "### predict based on the number of films each user watches on each genre"
   ]
  },
  {
   "cell_type": "code",
   "execution_count": 137,
   "metadata": {},
   "outputs": [],
   "source": [
    "user_prefer_genre = defaultdict(list)\n",
    "for index,row in df_count.iterrows():\n",
    "    user_prefer_genre[index] = [df_count.columns[i] for i in sorted(range(len(row)), key=lambda i: row[i])[-5:]]"
   ]
  },
  {
   "cell_type": "code",
   "execution_count": 138,
   "metadata": {},
   "outputs": [],
   "source": [
    "pred = []\n",
    "for index,row in test.iterrows():\n",
    "    if row[0] not in df_user.index:\n",
    "        pred.append(-1)\n",
    "    else:\n",
    "        if set(user_prefer_genre[row[0]]) & set(row[4].split('|')):\n",
    "            pred.append(1)\n",
    "        else:\n",
    "            pred.append(-1)"
   ]
  },
  {
   "cell_type": "code",
   "execution_count": 139,
   "metadata": {},
   "outputs": [
    {
     "data": {
      "text/plain": [
       "0.5986591955173104"
      ]
     },
     "execution_count": 139,
     "metadata": {},
     "output_type": "execute_result"
    }
   ],
   "source": [
    "sum(np.array(pred) == np.array(answer)) / len(answer)"
   ]
  },
  {
   "cell_type": "markdown",
   "metadata": {},
   "source": [
    "# Ethics and Privacy"
   ]
  },
  {
   "cell_type": "markdown",
   "metadata": {},
   "source": [
    "When it comes to privacy and ethical considerations, there are many factors that we have to consider in order for our project to meet these expectations. First, we insured that we are using information that is valid and not leaving out any information that would change the outcome. We want to make sure that we are not using any false information so that our project gives truth to the people. Secondly, we made sure that we have permission from the websites that we are taking information from. We want the readers of our project to see that we had help from rating websites and to give them the credit that they deserve. This project goes through the necessary procedures to be fair to rating websites as well as have their trust. Thirdly, we need to make sure that we are upholding the privacy of the user’s information from the website. In order to do this, we took out any personal information such as name, age, gender, etc. and labeled them using an id system. This insures that we are only using the necessary information for the experiment without breaking the privacy of the website and its users.  Lastly, we want to make sure that we are not breaking any laws as well as not hurt the users or website in any way. Overall, the project will provide information that will be beneficial towards people that want to see ratings correlate with their favorite type of film. If we are able to get approval from others, others may try to build up from our project."
   ]
  },
  {
   "cell_type": "markdown",
   "metadata": {},
   "source": [
    "# Conclusion and Discussion"
   ]
  }
 ],
 "metadata": {
  "kernelspec": {
   "display_name": "Python 3",
   "language": "python",
   "name": "python3"
  },
  "language_info": {
   "codemirror_mode": {
    "name": "ipython",
    "version": 3
   },
   "file_extension": ".py",
   "mimetype": "text/x-python",
   "name": "python",
   "nbconvert_exporter": "python",
   "pygments_lexer": "ipython3",
   "version": "3.7.0"
  }
 },
 "nbformat": 4,
 "nbformat_minor": 2
}
